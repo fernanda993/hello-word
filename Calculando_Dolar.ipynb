{
  "nbformat": 4,
  "nbformat_minor": 0,
  "metadata": {
    "colab": {
      "name": "Calculando_Dolar.ipynb",
      "provenance": [],
      "authorship_tag": "ABX9TyM/SJ3jjNh+o1dzwKadeWpj",
      "include_colab_link": true
    },
    "kernelspec": {
      "name": "python3",
      "display_name": "Python 3"
    }
  },
  "cells": [
    {
      "cell_type": "markdown",
      "metadata": {
        "id": "view-in-github",
        "colab_type": "text"
      },
      "source": [
        "<a href=\"https://colab.research.google.com/github/fernanda993/hello-word/blob/master/Calculando_Dolar.ipynb\" target=\"_parent\"><img src=\"https://colab.research.google.com/assets/colab-badge.svg\" alt=\"Open In Colab\"/></a>"
      ]
    },
    {
      "cell_type": "markdown",
      "metadata": {
        "id": "XqfWpXvgDa_C"
      },
      "source": [
        "#Calculando quantos dolares podemos comprar hoje.\n",
        "\n"
      ]
    },
    {
      "cell_type": "markdown",
      "metadata": {
        "id": "VBmGoHAlDnIB"
      },
      "source": [
        "###Imports"
      ]
    },
    {
      "cell_type": "code",
      "metadata": {
        "id": "pGGx1nPWDgge"
      },
      "source": [
        "import pandas as pd"
      ],
      "execution_count": 1,
      "outputs": []
    },
    {
      "cell_type": "markdown",
      "metadata": {
        "id": "frVzNEarEG5e"
      },
      "source": [
        "###Pergunta"
      ]
    },
    {
      "cell_type": "code",
      "metadata": {
        "colab": {
          "base_uri": "https://localhost:8080/"
        },
        "id": "MkrFgIxJELl7",
        "outputId": "769761ff-71d0-4196-ca87-b5f794c6456b"
      },
      "source": [
        "qtd_carteira = float(input('Quanto reais você tem em sua conta? '))"
      ],
      "execution_count": 2,
      "outputs": [
        {
          "output_type": "stream",
          "text": [
            "Quanto reais você tem em sua conta?300\n"
          ],
          "name": "stdout"
        }
      ]
    },
    {
      "cell_type": "markdown",
      "metadata": {
        "id": "tcBkrvivEsed"
      },
      "source": [
        "### Valor do dolar "
      ]
    },
    {
      "cell_type": "code",
      "metadata": {
        "colab": {
          "base_uri": "https://localhost:8080/"
        },
        "id": "w2RDpnH1E6tF",
        "outputId": "3abcde58-1271-411a-af6c-3cc27a4209a7"
      },
      "source": [
        "#hide\n",
        "!wget https://www.melhorcambio.com/dolar-hoje"
      ],
      "execution_count": 4,
      "outputs": [
        {
          "output_type": "stream",
          "text": [
            "--2020-12-05 14:15:07--  https://www.melhorcambio.com/dolar-hoje\n",
            "Resolving www.melhorcambio.com (www.melhorcambio.com)... 104.26.6.229, 172.67.71.156, 104.26.7.229, ...\n",
            "Connecting to www.melhorcambio.com (www.melhorcambio.com)|104.26.6.229|:443... connected.\n",
            "HTTP request sent, awaiting response... 200 OK\n",
            "Length: unspecified [text/html]\n",
            "Saving to: ‘dolar-hoje’\n",
            "\n",
            "dolar-hoje              [ <=>                ] 134.63K  --.-KB/s    in 0.05s   \n",
            "\n",
            "2020-12-05 14:15:08 (2.57 MB/s) - ‘dolar-hoje’ saved [137864]\n",
            "\n"
          ],
          "name": "stdout"
        }
      ]
    },
    {
      "cell_type": "markdown",
      "metadata": {
        "id": "4JdV6TtCEnvQ"
      },
      "source": [
        ""
      ]
    }
  ]
}