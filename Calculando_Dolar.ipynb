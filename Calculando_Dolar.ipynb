{
  "nbformat": 4,
  "nbformat_minor": 0,
  "metadata": {
    "colab": {
      "name": "Untitled14.ipynb",
      "provenance": [],
      "authorship_tag": "ABX9TyPSopblePpnnQfHakmOZUM6",
      "include_colab_link": true
    },
    "kernelspec": {
      "name": "python3",
      "display_name": "Python 3"
    }
  },
  "cells": [
    {
      "cell_type": "markdown",
      "metadata": {
        "id": "view-in-github",
        "colab_type": "text"
      },
      "source": [
        "<a href=\"https://colab.research.google.com/github/fernanda993/hello-word/blob/master/Calculando_Dolar.ipynb\" target=\"_parent\"><img src=\"https://colab.research.google.com/assets/colab-badge.svg\" alt=\"Open In Colab\"/></a>"
      ]
    },
    {
      "cell_type": "markdown",
      "metadata": {
        "id": "XqfWpXvgDa_C"
      },
      "source": [
        "#Calculando quantos holares podemos comprar hoje."
      ]
    },
    {
      "cell_type": "markdown",
      "metadata": {
        "id": "VBmGoHAlDnIB"
      },
      "source": [
        "###Imports"
      ]
    },
    {
      "cell_type": "code",
      "metadata": {
        "id": "pGGx1nPWDgge"
      },
      "source": [
        "import pandas as pd"
      ],
      "execution_count": 1,
      "outputs": []
    },
    {
      "cell_type": "markdown",
      "metadata": {
        "id": "frVzNEarEG5e"
      },
      "source": [
        "###Pergunta"
      ]
    },
    {
      "cell_type": "code",
      "metadata": {
        "colab": {
          "base_uri": "https://localhost:8080/"
        },
        "id": "MkrFgIxJELl7",
        "outputId": "769761ff-71d0-4196-ca87-b5f794c6456b"
      },
      "source": [
        "qtd_carteira = float(input('Quanto reais você tem em sua conta? '))"
      ],
      "execution_count": 2,
      "outputs": [
        {
          "output_type": "stream",
          "text": [
            "Quanto reais você tem em sua conta?300\n"
          ],
          "name": "stdout"
        }
      ]
    },
    {
      "cell_type": "markdown",
      "metadata": {
        "id": "tcBkrvivEsed"
      },
      "source": [
        "### Valor do dolar "
      ]
    },
    {
      "cell_type": "code",
      "metadata": {
        "colab": {
          "base_uri": "https://localhost:8080/"
        },
        "id": "w2RDpnH1E6tF",
        "outputId": "da6f889e-cd44-4122-f9d5-ac973b81dac3"
      },
      "source": [
        "#hide\n",
        "!https://www.melhorcambio.com/dolar-hoje"
      ],
      "execution_count": 3,
      "outputs": [
        {
          "output_type": "stream",
          "text": [
            "/bin/bash: https://www.melhorcambio.com/dolar-hoje: No such file or directory\n"
          ],
          "name": "stdout"
        }
      ]
    },
    {
      "cell_type": "markdown",
      "metadata": {
        "id": "4JdV6TtCEnvQ"
      },
      "source": [
        ""
      ]
    }
  ]
}