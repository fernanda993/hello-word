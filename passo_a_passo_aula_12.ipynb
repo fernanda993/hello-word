{
  "nbformat": 4,
  "nbformat_minor": 0,
  "metadata": {
    "colab": {
      "name": "passo_a_passo_aula_12.ipynb",
      "provenance": [],
      "collapsed_sections": [],
      "include_colab_link": true
    },
    "kernelspec": {
      "name": "python3",
      "display_name": "Python 3"
    }
  },
  "cells": [
    {
      "cell_type": "markdown",
      "metadata": {
        "id": "view-in-github",
        "colab_type": "text"
      },
      "source": [
        "<a href=\"https://colab.research.google.com/github/fernanda993/hello-word/blob/master/passo_a_passo_aula_12.ipynb\" target=\"_parent\"><img src=\"https://colab.research.google.com/assets/colab-badge.svg\" alt=\"Open In Colab\"/></a>"
      ]
    },
    {
      "cell_type": "code",
      "metadata": {
        "id": "mr2uQj1oKe70"
      },
      "source": [
        "import pandas as pd\n",
        "import numpy as np\n",
        "# import sklearn\n",
        "from sklearn.ensemble import RandomForestRegressor\n",
        "from sklearn.dummy import DummyRegressor"
      ],
      "execution_count": null,
      "outputs": []
    },
    {
      "cell_type": "code",
      "metadata": {
        "id": "3l_rE-JiK7DT"
      },
      "source": [
        "treino = pd.read_csv('https://raw.githubusercontent.com/cassiasamp/jul-20-calculadora-imoveis/master/analise_e_preprocessamento/treino_preprocessado.csv')\n",
        "teste = pd.read_csv('https://raw.githubusercontent.com/cassiasamp/jul-20-calculadora-imoveis/master/analise_e_preprocessamento/teste_preprocessado.csv')"
      ],
      "execution_count": null,
      "outputs": []
    },
    {
      "cell_type": "code",
      "metadata": {
        "id": "WHXy3IrRLXJM"
      },
      "source": [
        "X_treino = treino.drop('precos', axis=1)\n",
        "y_treino = treino['precos']"
      ],
      "execution_count": null,
      "outputs": []
    },
    {
      "cell_type": "code",
      "metadata": {
        "id": "S1gXZWtwNneK"
      },
      "source": [
        "X_teste = teste.drop('precos', axis=1)\n",
        "y_teste = teste['precos']"
      ],
      "execution_count": null,
      "outputs": []
    },
    {
      "cell_type": "code",
      "metadata": {
        "id": "FZVmnPnGN-dS",
        "outputId": "2fdc889e-77f3-42e8-b606-5ac19e804ba3",
        "colab": {
          "base_uri": "https://localhost:8080/"
        }
      },
      "source": [
        "# modelo de random forest\n",
        "rf = RandomForestRegressor(random_state=200)\n",
        "# treinando o modelo\n",
        "rf.fit(X_treino, y_treino)"
      ],
      "execution_count": null,
      "outputs": [
        {
          "output_type": "execute_result",
          "data": {
            "text/plain": [
              "RandomForestRegressor(bootstrap=True, ccp_alpha=0.0, criterion='mse',\n",
              "                      max_depth=None, max_features='auto', max_leaf_nodes=None,\n",
              "                      max_samples=None, min_impurity_decrease=0.0,\n",
              "                      min_impurity_split=None, min_samples_leaf=1,\n",
              "                      min_samples_split=2, min_weight_fraction_leaf=0.0,\n",
              "                      n_estimators=100, n_jobs=None, oob_score=False,\n",
              "                      random_state=200, verbose=0, warm_start=False)"
            ]
          },
          "metadata": {
            "tags": []
          },
          "execution_count": 5
        }
      ]
    },
    {
      "cell_type": "code",
      "metadata": {
        "id": "NcmntJpzPgm_",
        "outputId": "b2fd2619-c2ba-476c-82d2-6f28f20fccc8",
        "colab": {
          "base_uri": "https://localhost:8080/"
        }
      },
      "source": [
        "# ver a pontuação\n",
        "pontuacao = rf.score(X_teste, y_teste)\n",
        "print('O R² ou coeficiente de determinação é:', pontuacao)"
      ],
      "execution_count": null,
      "outputs": [
        {
          "output_type": "stream",
          "text": [
            "O R² ou coeficiente de determinação é: 0.0325347830631183\n"
          ],
          "name": "stdout"
        }
      ]
    },
    {
      "cell_type": "code",
      "metadata": {
        "id": "Nm9GxqFXPu3G"
      },
      "source": [
        "# prever dados novos\n",
        "predicoes = rf.predict(X_teste)"
      ],
      "execution_count": null,
      "outputs": []
    },
    {
      "cell_type": "code",
      "metadata": {
        "id": "YuG6cajOQnW7",
        "outputId": "f97b65e0-09eb-4232-b356-83f825f00496",
        "colab": {
          "base_uri": "https://localhost:8080/"
        }
      },
      "source": [
        "# usando a exponencial menos 1 para fazer o inverso do logaritmo mais 1\n",
        "np.expm1(predicoes[:5])"
      ],
      "execution_count": null,
      "outputs": [
        {
          "output_type": "execute_result",
          "data": {
            "text/plain": [
              "array([3341.65016033, 3653.19260252, 1864.37344417, 5033.3592573 ,\n",
              "       3605.60438629])"
            ]
          },
          "metadata": {
            "tags": []
          },
          "execution_count": 8
        }
      ]
    },
    {
      "cell_type": "code",
      "metadata": {
        "id": "9aoCYIDYRykQ",
        "outputId": "be8c7f4e-e693-4de6-db8c-d4c5496d633d",
        "colab": {
          "base_uri": "https://localhost:8080/"
        }
      },
      "source": [
        "# será que um modelo de regressão que chuta sempre a média é melhor que o Random Forest?\n",
        "# esse é o nosso modelo de baseline\n",
        "dummy_reg = DummyRegressor(strategy=\"mean\")\n",
        "\n",
        "dummy_reg.fit(X_treino, y_treino)\n",
        "dummy_reg.predict(X_teste)\n",
        "pontuacao_dummy = dummy_reg.score(X_teste, y_teste)\n",
        "print('O R² ou coeficiente de determinação é:', pontuacao_dummy)"
      ],
      "execution_count": null,
      "outputs": [
        {
          "output_type": "stream",
          "text": [
            "O R² ou coeficiente de determinação é: -0.002007697364269978\n"
          ],
          "name": "stdout"
        }
      ]
    },
    {
      "cell_type": "code",
      "metadata": {
        "id": "a0_cryw1Sjx8",
        "outputId": "e12f4301-baef-4f2a-afd0-39734e2c489e",
        "colab": {
          "base_uri": "https://localhost:8080/"
        }
      },
      "source": [
        "# será que um modelo de regressão que chuta sempre a média é melhor que o Random Forest?\n",
        "dummy_reg_mediana = DummyRegressor(strategy=\"median\")\n",
        "\n",
        "dummy_reg_mediana.fit(X_treino, y_treino)\n",
        "dummy_reg_mediana.predict(X_teste)\n",
        "pontuacao_dummy_mediana = dummy_reg_mediana.score(X_teste, y_teste)\n",
        "print('O R² ou coeficiente de determinação é:', pontuacao_dummy_mediana)"
      ],
      "execution_count": null,
      "outputs": [
        {
          "output_type": "stream",
          "text": [
            "O R² ou coeficiente de determinação é: -0.08517679670713596\n"
          ],
          "name": "stdout"
        }
      ]
    },
    {
      "cell_type": "code",
      "metadata": {
        "id": "CkDBKYO_S7i1"
      },
      "source": [
        "# podemos melhorar os modelos com grid search e cross validation: vemos na segunda\n",
        "# salvando o modelo de Random Forest que teve pontuação melhor\n",
        "import pickle"
      ],
      "execution_count": null,
      "outputs": []
    },
    {
      "cell_type": "code",
      "metadata": {
        "id": "ld8tJf7TUJm6"
      },
      "source": [
        "pickle.dump(rf, open('modelo_random_forest.pkl', 'wb'))"
      ],
      "execution_count": null,
      "outputs": []
    },
    {
      "cell_type": "code",
      "metadata": {
        "id": "lRccqcaLVFyL"
      },
      "source": [
        "# quero usar o modelo que eu salvei\n",
        "rf_pkl = pickle.load(open('modelo_random_forest.pkl', 'rb'))"
      ],
      "execution_count": null,
      "outputs": []
    },
    {
      "cell_type": "code",
      "metadata": {
        "id": "GRJmw13nVzix",
        "outputId": "b4cb4d1d-1f44-4957-80fd-9cced402e841",
        "colab": {
          "base_uri": "https://localhost:8080/",
          "height": 202
        }
      },
      "source": [
        "X_teste.head()"
      ],
      "execution_count": null,
      "outputs": [
        {
          "output_type": "execute_result",
          "data": {
            "text/html": [
              "<div>\n",
              "<style scoped>\n",
              "    .dataframe tbody tr th:only-of-type {\n",
              "        vertical-align: middle;\n",
              "    }\n",
              "\n",
              "    .dataframe tbody tr th {\n",
              "        vertical-align: top;\n",
              "    }\n",
              "\n",
              "    .dataframe thead th {\n",
              "        text-align: right;\n",
              "    }\n",
              "</style>\n",
              "<table border=\"1\" class=\"dataframe\">\n",
              "  <thead>\n",
              "    <tr style=\"text-align: right;\">\n",
              "      <th></th>\n",
              "      <th>zona_leste</th>\n",
              "      <th>zona_norte</th>\n",
              "      <th>zona_oeste</th>\n",
              "      <th>zona_sul</th>\n",
              "      <th>quartos</th>\n",
              "      <th>areas</th>\n",
              "    </tr>\n",
              "  </thead>\n",
              "  <tbody>\n",
              "    <tr>\n",
              "      <th>0</th>\n",
              "      <td>0</td>\n",
              "      <td>0</td>\n",
              "      <td>0</td>\n",
              "      <td>1</td>\n",
              "      <td>1.386294</td>\n",
              "      <td>4.564348</td>\n",
              "    </tr>\n",
              "    <tr>\n",
              "      <th>1</th>\n",
              "      <td>0</td>\n",
              "      <td>0</td>\n",
              "      <td>0</td>\n",
              "      <td>1</td>\n",
              "      <td>1.386294</td>\n",
              "      <td>4.795791</td>\n",
              "    </tr>\n",
              "    <tr>\n",
              "      <th>2</th>\n",
              "      <td>0</td>\n",
              "      <td>0</td>\n",
              "      <td>1</td>\n",
              "      <td>0</td>\n",
              "      <td>1.098612</td>\n",
              "      <td>4.110874</td>\n",
              "    </tr>\n",
              "    <tr>\n",
              "      <th>3</th>\n",
              "      <td>0</td>\n",
              "      <td>0</td>\n",
              "      <td>0</td>\n",
              "      <td>1</td>\n",
              "      <td>1.386294</td>\n",
              "      <td>5.707110</td>\n",
              "    </tr>\n",
              "    <tr>\n",
              "      <th>4</th>\n",
              "      <td>1</td>\n",
              "      <td>0</td>\n",
              "      <td>0</td>\n",
              "      <td>0</td>\n",
              "      <td>0.693147</td>\n",
              "      <td>3.988984</td>\n",
              "    </tr>\n",
              "  </tbody>\n",
              "</table>\n",
              "</div>"
            ],
            "text/plain": [
              "   zona_leste  zona_norte  zona_oeste  zona_sul   quartos     areas\n",
              "0           0           0           0         1  1.386294  4.564348\n",
              "1           0           0           0         1  1.386294  4.795791\n",
              "2           0           0           1         0  1.098612  4.110874\n",
              "3           0           0           0         1  1.386294  5.707110\n",
              "4           1           0           0         0  0.693147  3.988984"
            ]
          },
          "metadata": {
            "tags": []
          },
          "execution_count": 14
        }
      ]
    },
    {
      "cell_type": "code",
      "metadata": {
        "id": "x7xeYjFFVdZH",
        "outputId": "3245aa06-fe16-4465-e4bd-0eb812203338",
        "colab": {
          "base_uri": "https://localhost:8080/"
        }
      },
      "source": [
        "# se colocarmos um dado novo ele precisa estar no formato 1 + log\n",
        "rf_pkl.predict([[0, 0, 0, 1, np.log1p(4), 4.564348]])"
      ],
      "execution_count": null,
      "outputs": [
        {
          "output_type": "execute_result",
          "data": {
            "text/plain": [
              "array([8.0596103])"
            ]
          },
          "metadata": {
            "tags": []
          },
          "execution_count": 15
        }
      ]
    },
    {
      "cell_type": "code",
      "metadata": {
        "id": "OVDnL6OrWDi5",
        "outputId": "33ed5fea-f487-4041-b3b2-601a7dd2e4e3",
        "colab": {
          "base_uri": "https://localhost:8080/"
        }
      },
      "source": [
        "# para vermos o valor \"real\", usamos 1 - exponencial (o contrário do log1p)\n",
        "np.expm1(y_treino[0])"
      ],
      "execution_count": null,
      "outputs": [
        {
          "output_type": "execute_result",
          "data": {
            "text/plain": [
              "1829.9999999999995"
            ]
          },
          "metadata": {
            "tags": []
          },
          "execution_count": 16
        }
      ]
    },
    {
      "cell_type": "code",
      "metadata": {
        "id": "Z41X4FQ0WMwh"
      },
      "source": [
        ""
      ],
      "execution_count": null,
      "outputs": []
    }
  ]
}