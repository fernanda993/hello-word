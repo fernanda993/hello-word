{
  "nbformat": 4,
  "nbformat_minor": 0,
  "metadata": {
    "colab": {
      "name": "coleta_dados_e_urls_aula7.ipynb",
      "provenance": [],
      "collapsed_sections": [],
      "include_colab_link": true
    },
    "kernelspec": {
      "name": "python3",
      "display_name": "Python 3"
    }
  },
  "cells": [
    {
      "cell_type": "markdown",
      "metadata": {
        "id": "view-in-github",
        "colab_type": "text"
      },
      "source": [
        "<a href=\"https://colab.research.google.com/github/fernanda993/hello-word/blob/master/coleta_dados_e_urls.ipynb\" target=\"_parent\"><img src=\"https://colab.research.google.com/assets/colab-badge.svg\" alt=\"Open In Colab\"/></a>"
      ]
    },
    {
      "cell_type": "code",
      "metadata": {
        "id": "33yrKcPpzZr9"
      },
      "source": [
        "import requests\n",
        "from bs4 import BeautifulSoup\n",
        "import re\n",
        "import pandas as pd\n",
        "import numpy as np\n",
        "from time import sleep"
      ],
      "execution_count": null,
      "outputs": []
    },
    {
      "cell_type": "code",
      "metadata": {
        "id": "KzHW8SJ0vrgZ"
      },
      "source": [
        "# primeiras 6 paginas do site\n",
        "paginas = ['', '_Desde_49', '_Desde_97', '_Desde_145', '_Desde_193', '_Desde_241']\n",
        "zonas = ['norte', 'sul', 'leste', 'oeste']"
      ],
      "execution_count": null,
      "outputs": []
    },
    {
      "cell_type": "code",
      "metadata": {
        "id": "8RTrZu-czgU7"
      },
      "source": [
        "def coleta_dados(url, zona):\n",
        "  conteudo = requests.get(url).content\n",
        "  sopa = BeautifulSoup(conteudo)\n",
        "\n",
        "  lista_precos = []\n",
        "  lista_areas_quartos = []\n",
        "  lista_quartos = []\n",
        "  lista_dimensoes = []\n",
        "  lista_zonas = []\n",
        "\n",
        "  re_quartos = '(.) quarto|quartos'\n",
        "  re_dimensoes = '(.*) m²'\n",
        "\n",
        "  precos = sopa.find_all('span', class_='price-tag-fraction')\n",
        "  dimensoes_e_quartos = sopa.find_all('ul', class_='ui-search-card-attributes ui-search-item__group__element')\n",
        "\n",
        "  for elemento in precos:\n",
        "    preco = re.findall('<span class=\"price-tag-fraction\">(.*)</span>', str(elemento))\n",
        "    lista_precos.append(float(preco[0])*1000)   \n",
        "\n",
        "  for elemento in dimensoes_e_quartos:\n",
        "    lista_areas_quartos.append(elemento.text)\n",
        "\n",
        "  for elemento in lista_areas_quartos:\n",
        "    quarto = re.findall(re_quartos, str(elemento))\n",
        "    dimensao = re.findall(re_dimensoes, str(elemento).replace(',', ''))\n",
        "\n",
        "    if quarto == []:\n",
        "      quarto = np.nan\n",
        "    else:\n",
        "      quarto = quarto[0]\n",
        "    \n",
        "    if dimensao == []:\n",
        "      dimensao = np.nan\n",
        "    else:\n",
        "      dimensao = dimensao[0]\n",
        "  \n",
        "    lista_quartos.append(quarto)\n",
        "    lista_dimensoes.append(dimensao)\n",
        "    lista_zonas.append(zona)\n",
        "\n",
        "  dados = {'zona': lista_zonas,\n",
        "           'precos':lista_precos,\n",
        "           'quartos':lista_quartos,\n",
        "           'areas': lista_dimensoes}\n",
        "  \n",
        "  df = pd.DataFrame(dados)\n",
        "  return df"
      ],
      "execution_count": null,
      "outputs": []
    },
    {
      "cell_type": "code",
      "metadata": {
        "id": "4Hzu0aXKx0sl",
        "outputId": "e39310e7-b549-4420-ff12-16039d56e4e6",
        "colab": {
          "base_uri": "https://localhost:8080/",
          "height": 472
        }
      },
      "source": [
        "lista_dfs = []\n",
        "\n",
        "for zona in zonas:\n",
        "  for pagina in paginas:\n",
        "    url = f'https://imoveis.mercadolivre.com.br/aluguel/sao-paulo/sao-paulo-zona-{zona}/{pagina}'\n",
        "    print('Coletando dados de', url)\n",
        "    df = coleta_dados(url, zona)\n",
        "    lista_dfs.append(df)\n",
        "    sleep(2)\n",
        "print('Dados coletados!')"
      ],
      "execution_count": null,
      "outputs": [
        {
          "output_type": "stream",
          "text": [
            "Coletando dados de https://imoveis.mercadolivre.com.br/aluguel/sao-paulo/sao-paulo-zona-norte/\n",
            "Coletando dados de https://imoveis.mercadolivre.com.br/aluguel/sao-paulo/sao-paulo-zona-norte/_Desde_49\n",
            "Coletando dados de https://imoveis.mercadolivre.com.br/aluguel/sao-paulo/sao-paulo-zona-norte/_Desde_97\n",
            "Coletando dados de https://imoveis.mercadolivre.com.br/aluguel/sao-paulo/sao-paulo-zona-norte/_Desde_145\n",
            "Coletando dados de https://imoveis.mercadolivre.com.br/aluguel/sao-paulo/sao-paulo-zona-norte/_Desde_193\n",
            "Coletando dados de https://imoveis.mercadolivre.com.br/aluguel/sao-paulo/sao-paulo-zona-norte/_Desde_241\n",
            "Coletando dados de https://imoveis.mercadolivre.com.br/aluguel/sao-paulo/sao-paulo-zona-sul/\n",
            "Coletando dados de https://imoveis.mercadolivre.com.br/aluguel/sao-paulo/sao-paulo-zona-sul/_Desde_49\n",
            "Coletando dados de https://imoveis.mercadolivre.com.br/aluguel/sao-paulo/sao-paulo-zona-sul/_Desde_97\n",
            "Coletando dados de https://imoveis.mercadolivre.com.br/aluguel/sao-paulo/sao-paulo-zona-sul/_Desde_145\n",
            "Coletando dados de https://imoveis.mercadolivre.com.br/aluguel/sao-paulo/sao-paulo-zona-sul/_Desde_193\n",
            "Coletando dados de https://imoveis.mercadolivre.com.br/aluguel/sao-paulo/sao-paulo-zona-sul/_Desde_241\n",
            "Coletando dados de https://imoveis.mercadolivre.com.br/aluguel/sao-paulo/sao-paulo-zona-leste/\n",
            "Coletando dados de https://imoveis.mercadolivre.com.br/aluguel/sao-paulo/sao-paulo-zona-leste/_Desde_49\n",
            "Coletando dados de https://imoveis.mercadolivre.com.br/aluguel/sao-paulo/sao-paulo-zona-leste/_Desde_97\n",
            "Coletando dados de https://imoveis.mercadolivre.com.br/aluguel/sao-paulo/sao-paulo-zona-leste/_Desde_145\n",
            "Coletando dados de https://imoveis.mercadolivre.com.br/aluguel/sao-paulo/sao-paulo-zona-leste/_Desde_193\n",
            "Coletando dados de https://imoveis.mercadolivre.com.br/aluguel/sao-paulo/sao-paulo-zona-leste/_Desde_241\n",
            "Coletando dados de https://imoveis.mercadolivre.com.br/aluguel/sao-paulo/sao-paulo-zona-oeste/\n",
            "Coletando dados de https://imoveis.mercadolivre.com.br/aluguel/sao-paulo/sao-paulo-zona-oeste/_Desde_49\n",
            "Coletando dados de https://imoveis.mercadolivre.com.br/aluguel/sao-paulo/sao-paulo-zona-oeste/_Desde_97\n",
            "Coletando dados de https://imoveis.mercadolivre.com.br/aluguel/sao-paulo/sao-paulo-zona-oeste/_Desde_145\n",
            "Coletando dados de https://imoveis.mercadolivre.com.br/aluguel/sao-paulo/sao-paulo-zona-oeste/_Desde_193\n",
            "Coletando dados de https://imoveis.mercadolivre.com.br/aluguel/sao-paulo/sao-paulo-zona-oeste/_Desde_241\n",
            "Dados coletados!\n"
          ],
          "name": "stdout"
        }
      ]
    },
    {
      "cell_type": "code",
      "metadata": {
        "id": "ofq5viYH--V6",
        "outputId": "f826fa11-b165-4314-8a4e-b027837215ad",
        "colab": {
          "base_uri": "https://localhost:8080/",
          "height": 198
        }
      },
      "source": [
        "df.head()"
      ],
      "execution_count": null,
      "outputs": [
        {
          "output_type": "execute_result",
          "data": {
            "text/html": [
              "<div>\n",
              "<style scoped>\n",
              "    .dataframe tbody tr th:only-of-type {\n",
              "        vertical-align: middle;\n",
              "    }\n",
              "\n",
              "    .dataframe tbody tr th {\n",
              "        vertical-align: top;\n",
              "    }\n",
              "\n",
              "    .dataframe thead th {\n",
              "        text-align: right;\n",
              "    }\n",
              "</style>\n",
              "<table border=\"1\" class=\"dataframe\">\n",
              "  <thead>\n",
              "    <tr style=\"text-align: right;\">\n",
              "      <th></th>\n",
              "      <th>zona</th>\n",
              "      <th>precos</th>\n",
              "      <th>quartos</th>\n",
              "      <th>areas</th>\n",
              "    </tr>\n",
              "  </thead>\n",
              "  <tbody>\n",
              "    <tr>\n",
              "      <th>0</th>\n",
              "      <td>oeste</td>\n",
              "      <td>1500.0</td>\n",
              "      <td>3</td>\n",
              "      <td>75</td>\n",
              "    </tr>\n",
              "    <tr>\n",
              "      <th>1</th>\n",
              "      <td>oeste</td>\n",
              "      <td>1500.0</td>\n",
              "      <td>3</td>\n",
              "      <td>75</td>\n",
              "    </tr>\n",
              "    <tr>\n",
              "      <th>2</th>\n",
              "      <td>oeste</td>\n",
              "      <td>850000.0</td>\n",
              "      <td>1</td>\n",
              "      <td>15</td>\n",
              "    </tr>\n",
              "    <tr>\n",
              "      <th>3</th>\n",
              "      <td>oeste</td>\n",
              "      <td>5900.0</td>\n",
              "      <td>NaN</td>\n",
              "      <td>294</td>\n",
              "    </tr>\n",
              "    <tr>\n",
              "      <th>4</th>\n",
              "      <td>oeste</td>\n",
              "      <td>2700.0</td>\n",
              "      <td>3</td>\n",
              "      <td>63</td>\n",
              "    </tr>\n",
              "  </tbody>\n",
              "</table>\n",
              "</div>"
            ],
            "text/plain": [
              "    zona    precos quartos areas\n",
              "0  oeste    1500.0       3    75\n",
              "1  oeste    1500.0       3    75\n",
              "2  oeste  850000.0       1    15\n",
              "3  oeste    5900.0     NaN   294\n",
              "4  oeste    2700.0       3    63"
            ]
          },
          "metadata": {
            "tags": []
          },
          "execution_count": 129
        }
      ]
    },
    {
      "cell_type": "code",
      "metadata": {
        "id": "kp2uYY29_BA-"
      },
      "source": [
        "df_ml = pd.concat(lista_dfs)"
      ],
      "execution_count": null,
      "outputs": []
    },
    {
      "cell_type": "code",
      "metadata": {
        "id": "QFsFB9Uo_C3E",
        "outputId": "70ac3a14-3ad5-4e3c-cd19-c48096734aef",
        "colab": {
          "base_uri": "https://localhost:8080/",
          "height": 198
        }
      },
      "source": [
        "df_ml.head()"
      ],
      "execution_count": null,
      "outputs": [
        {
          "output_type": "execute_result",
          "data": {
            "text/html": [
              "<div>\n",
              "<style scoped>\n",
              "    .dataframe tbody tr th:only-of-type {\n",
              "        vertical-align: middle;\n",
              "    }\n",
              "\n",
              "    .dataframe tbody tr th {\n",
              "        vertical-align: top;\n",
              "    }\n",
              "\n",
              "    .dataframe thead th {\n",
              "        text-align: right;\n",
              "    }\n",
              "</style>\n",
              "<table border=\"1\" class=\"dataframe\">\n",
              "  <thead>\n",
              "    <tr style=\"text-align: right;\">\n",
              "      <th></th>\n",
              "      <th>zona</th>\n",
              "      <th>precos</th>\n",
              "      <th>quartos</th>\n",
              "      <th>areas</th>\n",
              "    </tr>\n",
              "  </thead>\n",
              "  <tbody>\n",
              "    <tr>\n",
              "      <th>0</th>\n",
              "      <td>norte</td>\n",
              "      <td>2990.0</td>\n",
              "      <td>3</td>\n",
              "      <td>475</td>\n",
              "    </tr>\n",
              "    <tr>\n",
              "      <th>1</th>\n",
              "      <td>norte</td>\n",
              "      <td>980000.0</td>\n",
              "      <td>2</td>\n",
              "      <td>55</td>\n",
              "    </tr>\n",
              "    <tr>\n",
              "      <th>2</th>\n",
              "      <td>norte</td>\n",
              "      <td>1700.0</td>\n",
              "      <td>2</td>\n",
              "      <td>58</td>\n",
              "    </tr>\n",
              "    <tr>\n",
              "      <th>3</th>\n",
              "      <td>norte</td>\n",
              "      <td>1350.0</td>\n",
              "      <td>NaN</td>\n",
              "      <td>28</td>\n",
              "    </tr>\n",
              "    <tr>\n",
              "      <th>4</th>\n",
              "      <td>norte</td>\n",
              "      <td>1000.0</td>\n",
              "      <td>3</td>\n",
              "      <td>55</td>\n",
              "    </tr>\n",
              "  </tbody>\n",
              "</table>\n",
              "</div>"
            ],
            "text/plain": [
              "    zona    precos quartos areas\n",
              "0  norte    2990.0       3   475\n",
              "1  norte  980000.0       2    55\n",
              "2  norte    1700.0       2    58\n",
              "3  norte    1350.0     NaN    28\n",
              "4  norte    1000.0       3    55"
            ]
          },
          "metadata": {
            "tags": []
          },
          "execution_count": 131
        }
      ]
    },
    {
      "cell_type": "code",
      "metadata": {
        "id": "MMtjZGxq_XLJ",
        "outputId": "6895f59b-fb1b-4265-c6a0-f5a66cf329ef",
        "colab": {
          "base_uri": "https://localhost:8080/",
          "height": 35
        }
      },
      "source": [
        "df_ml.shape"
      ],
      "execution_count": null,
      "outputs": [
        {
          "output_type": "execute_result",
          "data": {
            "text/plain": [
              "(1152, 4)"
            ]
          },
          "metadata": {
            "tags": []
          },
          "execution_count": 132
        }
      ]
    },
    {
      "cell_type": "code",
      "metadata": {
        "id": "YfrAIapu_Z0A",
        "outputId": "bac01b73-cd1e-4a9d-a364-10297b50cf53",
        "colab": {
          "base_uri": "https://localhost:8080/",
          "height": 198
        }
      },
      "source": [
        "df_ml.tail()"
      ],
      "execution_count": null,
      "outputs": [
        {
          "output_type": "execute_result",
          "data": {
            "text/html": [
              "<div>\n",
              "<style scoped>\n",
              "    .dataframe tbody tr th:only-of-type {\n",
              "        vertical-align: middle;\n",
              "    }\n",
              "\n",
              "    .dataframe tbody tr th {\n",
              "        vertical-align: top;\n",
              "    }\n",
              "\n",
              "    .dataframe thead th {\n",
              "        text-align: right;\n",
              "    }\n",
              "</style>\n",
              "<table border=\"1\" class=\"dataframe\">\n",
              "  <thead>\n",
              "    <tr style=\"text-align: right;\">\n",
              "      <th></th>\n",
              "      <th>zona</th>\n",
              "      <th>precos</th>\n",
              "      <th>quartos</th>\n",
              "      <th>areas</th>\n",
              "    </tr>\n",
              "  </thead>\n",
              "  <tbody>\n",
              "    <tr>\n",
              "      <th>43</th>\n",
              "      <td>oeste</td>\n",
              "      <td>2900.0</td>\n",
              "      <td>2</td>\n",
              "      <td>85</td>\n",
              "    </tr>\n",
              "    <tr>\n",
              "      <th>44</th>\n",
              "      <td>oeste</td>\n",
              "      <td>1400.0</td>\n",
              "      <td>2</td>\n",
              "      <td>44</td>\n",
              "    </tr>\n",
              "    <tr>\n",
              "      <th>45</th>\n",
              "      <td>oeste</td>\n",
              "      <td>1750.0</td>\n",
              "      <td>3</td>\n",
              "      <td>60</td>\n",
              "    </tr>\n",
              "    <tr>\n",
              "      <th>46</th>\n",
              "      <td>oeste</td>\n",
              "      <td>2200.0</td>\n",
              "      <td>1</td>\n",
              "      <td>35</td>\n",
              "    </tr>\n",
              "    <tr>\n",
              "      <th>47</th>\n",
              "      <td>oeste</td>\n",
              "      <td>1500.0</td>\n",
              "      <td>1</td>\n",
              "      <td>28</td>\n",
              "    </tr>\n",
              "  </tbody>\n",
              "</table>\n",
              "</div>"
            ],
            "text/plain": [
              "     zona  precos quartos areas\n",
              "43  oeste  2900.0       2    85\n",
              "44  oeste  1400.0       2    44\n",
              "45  oeste  1750.0       3    60\n",
              "46  oeste  2200.0       1    35\n",
              "47  oeste  1500.0       1    28"
            ]
          },
          "metadata": {
            "tags": []
          },
          "execution_count": 133
        }
      ]
    },
    {
      "cell_type": "code",
      "metadata": {
        "id": "0G-t4uIZ_dqy"
      },
      "source": [
        "df_ml.to_csv('dados_mercado_livre.csv', index=False)"
      ],
      "execution_count": null,
      "outputs": []
    },
    {
      "cell_type": "code",
      "metadata": {
        "id": "8NVkHMaC_ylr",
        "outputId": "62cadf7b-7da5-4edb-995d-1e1dfeba5aee",
        "colab": {
          "base_uri": "https://localhost:8080/",
          "height": 407
        }
      },
      "source": [
        "pd.read_csv('dados_mercado_livre.csv')"
      ],
      "execution_count": null,
      "outputs": [
        {
          "output_type": "execute_result",
          "data": {
            "text/html": [
              "<div>\n",
              "<style scoped>\n",
              "    .dataframe tbody tr th:only-of-type {\n",
              "        vertical-align: middle;\n",
              "    }\n",
              "\n",
              "    .dataframe tbody tr th {\n",
              "        vertical-align: top;\n",
              "    }\n",
              "\n",
              "    .dataframe thead th {\n",
              "        text-align: right;\n",
              "    }\n",
              "</style>\n",
              "<table border=\"1\" class=\"dataframe\">\n",
              "  <thead>\n",
              "    <tr style=\"text-align: right;\">\n",
              "      <th></th>\n",
              "      <th>zona</th>\n",
              "      <th>precos</th>\n",
              "      <th>quartos</th>\n",
              "      <th>areas</th>\n",
              "    </tr>\n",
              "  </thead>\n",
              "  <tbody>\n",
              "    <tr>\n",
              "      <th>0</th>\n",
              "      <td>norte</td>\n",
              "      <td>2990.0</td>\n",
              "      <td>3.0</td>\n",
              "      <td>475.0</td>\n",
              "    </tr>\n",
              "    <tr>\n",
              "      <th>1</th>\n",
              "      <td>norte</td>\n",
              "      <td>980000.0</td>\n",
              "      <td>2.0</td>\n",
              "      <td>55.0</td>\n",
              "    </tr>\n",
              "    <tr>\n",
              "      <th>2</th>\n",
              "      <td>norte</td>\n",
              "      <td>1700.0</td>\n",
              "      <td>2.0</td>\n",
              "      <td>58.0</td>\n",
              "    </tr>\n",
              "    <tr>\n",
              "      <th>3</th>\n",
              "      <td>norte</td>\n",
              "      <td>1350.0</td>\n",
              "      <td>NaN</td>\n",
              "      <td>28.0</td>\n",
              "    </tr>\n",
              "    <tr>\n",
              "      <th>4</th>\n",
              "      <td>norte</td>\n",
              "      <td>1000.0</td>\n",
              "      <td>3.0</td>\n",
              "      <td>55.0</td>\n",
              "    </tr>\n",
              "    <tr>\n",
              "      <th>...</th>\n",
              "      <td>...</td>\n",
              "      <td>...</td>\n",
              "      <td>...</td>\n",
              "      <td>...</td>\n",
              "    </tr>\n",
              "    <tr>\n",
              "      <th>1147</th>\n",
              "      <td>oeste</td>\n",
              "      <td>2900.0</td>\n",
              "      <td>2.0</td>\n",
              "      <td>85.0</td>\n",
              "    </tr>\n",
              "    <tr>\n",
              "      <th>1148</th>\n",
              "      <td>oeste</td>\n",
              "      <td>1400.0</td>\n",
              "      <td>2.0</td>\n",
              "      <td>44.0</td>\n",
              "    </tr>\n",
              "    <tr>\n",
              "      <th>1149</th>\n",
              "      <td>oeste</td>\n",
              "      <td>1750.0</td>\n",
              "      <td>3.0</td>\n",
              "      <td>60.0</td>\n",
              "    </tr>\n",
              "    <tr>\n",
              "      <th>1150</th>\n",
              "      <td>oeste</td>\n",
              "      <td>2200.0</td>\n",
              "      <td>1.0</td>\n",
              "      <td>35.0</td>\n",
              "    </tr>\n",
              "    <tr>\n",
              "      <th>1151</th>\n",
              "      <td>oeste</td>\n",
              "      <td>1500.0</td>\n",
              "      <td>1.0</td>\n",
              "      <td>28.0</td>\n",
              "    </tr>\n",
              "  </tbody>\n",
              "</table>\n",
              "<p>1152 rows × 4 columns</p>\n",
              "</div>"
            ],
            "text/plain": [
              "       zona    precos  quartos  areas\n",
              "0     norte    2990.0      3.0  475.0\n",
              "1     norte  980000.0      2.0   55.0\n",
              "2     norte    1700.0      2.0   58.0\n",
              "3     norte    1350.0      NaN   28.0\n",
              "4     norte    1000.0      3.0   55.0\n",
              "...     ...       ...      ...    ...\n",
              "1147  oeste    2900.0      2.0   85.0\n",
              "1148  oeste    1400.0      2.0   44.0\n",
              "1149  oeste    1750.0      3.0   60.0\n",
              "1150  oeste    2200.0      1.0   35.0\n",
              "1151  oeste    1500.0      1.0   28.0\n",
              "\n",
              "[1152 rows x 4 columns]"
            ]
          },
          "metadata": {
            "tags": []
          },
          "execution_count": 135
        }
      ]
    },
    {
      "cell_type": "code",
      "metadata": {
        "id": "NdVNZKpc_1wx",
        "outputId": "8d546d8d-3ecc-4ce6-8e09-559133bd333f",
        "colab": {
          "base_uri": "https://localhost:8080/",
          "height": 217
        }
      },
      "source": [
        "df_ml.info()"
      ],
      "execution_count": null,
      "outputs": [
        {
          "output_type": "stream",
          "text": [
            "<class 'pandas.core.frame.DataFrame'>\n",
            "Int64Index: 1152 entries, 0 to 47\n",
            "Data columns (total 4 columns):\n",
            " #   Column   Non-Null Count  Dtype  \n",
            "---  ------   --------------  -----  \n",
            " 0   zona     1152 non-null   object \n",
            " 1   precos   1152 non-null   float64\n",
            " 2   quartos  1103 non-null   object \n",
            " 3   areas    1149 non-null   object \n",
            "dtypes: float64(1), object(3)\n",
            "memory usage: 45.0+ KB\n"
          ],
          "name": "stdout"
        }
      ]
    },
    {
      "cell_type": "code",
      "metadata": {
        "id": "ITWVTmH3_7BI",
        "outputId": "3e641843-81ef-4b21-e2b4-fdbfd62ed557",
        "colab": {
          "base_uri": "https://localhost:8080/",
          "height": 108
        }
      },
      "source": [
        "df_ml.isnull().sum()"
      ],
      "execution_count": null,
      "outputs": [
        {
          "output_type": "execute_result",
          "data": {
            "text/plain": [
              "zona        0\n",
              "precos      0\n",
              "quartos    49\n",
              "areas       3\n",
              "dtype: int64"
            ]
          },
          "metadata": {
            "tags": []
          },
          "execution_count": 137
        }
      ]
    },
    {
      "cell_type": "code",
      "metadata": {
        "id": "XX7dTvA4qKKr"
      },
      "source": [
        "valor_ponto = '1,055'.replace(',', '.')"
      ],
      "execution_count": null,
      "outputs": []
    },
    {
      "cell_type": "code",
      "metadata": {
        "id": "5aS6L0j2qLzZ"
      },
      "source": [
        "valor_nada = '1,055'.replace(',', '')"
      ],
      "execution_count": null,
      "outputs": []
    },
    {
      "cell_type": "code",
      "metadata": {
        "id": "Tje5QYtwqjFE",
        "outputId": "3f2ac980-434f-4a5b-a913-d90e7c0c3322",
        "colab": {
          "base_uri": "https://localhost:8080/",
          "height": 35
        }
      },
      "source": [
        "float(valor_ponto) + 2"
      ],
      "execution_count": null,
      "outputs": [
        {
          "output_type": "execute_result",
          "data": {
            "text/plain": [
              "3.0549999999999997"
            ]
          },
          "metadata": {
            "tags": []
          },
          "execution_count": 140
        }
      ]
    },
    {
      "cell_type": "code",
      "metadata": {
        "id": "U7Ov5D-EqqIJ",
        "outputId": "34522bee-f247-42b6-b5f3-8a208515344f",
        "colab": {
          "base_uri": "https://localhost:8080/",
          "height": 35
        }
      },
      "source": [
        "float(valor_nada) + 2"
      ],
      "execution_count": null,
      "outputs": [
        {
          "output_type": "execute_result",
          "data": {
            "text/plain": [
              "1057.0"
            ]
          },
          "metadata": {
            "tags": []
          },
          "execution_count": 141
        }
      ]
    },
    {
      "cell_type": "code",
      "metadata": {
        "id": "7xf8tCSjqxFV"
      },
      "source": [
        ""
      ],
      "execution_count": null,
      "outputs": []
    }
  ]
}